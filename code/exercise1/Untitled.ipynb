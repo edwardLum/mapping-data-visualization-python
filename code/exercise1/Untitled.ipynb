{
 "cells": [
  {
   "cell_type": "code",
   "execution_count": null,
   "id": "62b9636c",
   "metadata": {},
   "outputs": [],
   "source": [
    "import os\n",
    "\n",
    "import xarray as xr\n",
    "import numpy as np\n",
    "import matplotlib.pyplot as plt\n",
    "import matplotlib.dates as mdates\n",
    "from xarray.coding.cftime_offsets import MonthEnd"
   ]
  },
  {
   "cell_type": "code",
   "execution_count": null,
   "id": "b0258c99",
   "metadata": {},
   "outputs": [],
   "source": [
    "home_dir = os.path.expanduser('~')\n",
    "file_path = os.path.join(home_dir, 'Code/star-struck/data/download.grib')"
   ]
  },
  {
   "cell_type": "code",
   "execution_count": null,
   "id": "ba2c3fa6",
   "metadata": {},
   "outputs": [],
   "source": [
    "def load_dataset(filename):\n",
    "    \"\"\"\n",
    "    Load a dataset from a given file path.\n",
    "\n",
    "    Parameters:\n",
    "    - filename (str): The path to the dataset file.\n",
    "\n",
    "    Returns:\n",
    "    - xarray.Dataset: The loaded dataset with temperature in Celsius.\n",
    "    \"\"\"\n",
    "\n",
    "    home_dir = os.path.expanduser('~')\n",
    "    file_path = os.path.join(home_dir, 'Code/star-struck/data/', filename)\n",
    "\n",
    "    ds = xr.open_dataset(file_path, engine='cfgrib')\n",
    "    \n",
    "    # convert Kelvin to Celcius\n",
    "    ds['t2m'] -= 273.15\n",
    "\n",
    "    return ds"
   ]
  },
  {
   "cell_type": "code",
   "execution_count": null,
   "id": "673372f9",
   "metadata": {},
   "outputs": [],
   "source": [
    "ds = load_dataset(file_path)"
   ]
  },
  {
   "cell_type": "code",
   "execution_count": null,
   "id": "e9a74cbf",
   "metadata": {},
   "outputs": [],
   "source": [
    "print(ds)"
   ]
  },
  {
   "cell_type": "code",
   "execution_count": null,
   "id": "9cee1688",
   "metadata": {},
   "outputs": [],
   "source": []
  }
 ],
 "metadata": {
  "kernelspec": {
   "display_name": "env",
   "language": "python",
   "name": "env"
  },
  "language_info": {
   "codemirror_mode": {
    "name": "ipython",
    "version": 3
   },
   "file_extension": ".py",
   "mimetype": "text/x-python",
   "name": "python",
   "nbconvert_exporter": "python",
   "pygments_lexer": "ipython3",
   "version": "3.11.1"
  }
 },
 "nbformat": 4,
 "nbformat_minor": 5
}
