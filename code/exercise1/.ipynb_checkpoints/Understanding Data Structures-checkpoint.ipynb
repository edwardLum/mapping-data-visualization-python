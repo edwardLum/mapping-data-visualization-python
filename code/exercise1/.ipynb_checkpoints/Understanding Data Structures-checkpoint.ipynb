{
 "cells": [
  {
   "cell_type": "code",
   "execution_count": null,
   "id": "62b9636c",
   "metadata": {},
   "outputs": [],
   "source": [
    "import os\n",
    "\n",
    "import xarray as xr\n",
    "import numpy as np\n",
    "import matplotlib.pyplot as plt\n",
    "import matplotlib.dates as mdates\n",
    "from xarray.coding.cftime_offsets import MonthEnd"
   ]
  },
  {
   "cell_type": "code",
   "execution_count": null,
   "id": "b0258c99",
   "metadata": {},
   "outputs": [],
   "source": [
    "home_dir = os.path.expanduser('~')\n",
    "file_path = os.path.join(home_dir, 'Code/star-struck/data/download.grib')"
   ]
  },
  {
   "cell_type": "code",
   "execution_count": null,
   "id": "54f12900",
   "metadata": {},
   "outputs": [],
   "source": [
    "def load_dataset(filename):\n",
    "    \"\"\"\n",
    "    Load a dataset from a given file path.\n",
    "\n",
    "    Parameters:\n",
    "    - filename (str): The path to the dataset file.\n",
    "\n",
    "    Returns:\n",
    "    - xarray.Dataset: The loaded dataset with temperature in Celsius.\n",
    "    \"\"\"\n",
    "\n",
    "    home_dir = os.path.expanduser('~')\n",
    "    file_path = os.path.join(home_dir, 'Code/star-struck/data/', filename)\n",
    "\n",
    "    ds = xr.open_dataset(file_path, engine='cfgrib')\n",
    "    \n",
    "    # convert Kelvin to Celcius\n",
    "    ds['t2m'] -= 273.15\n",
    "\n",
    "    return ds"
   ]
  },
  {
   "cell_type": "code",
   "execution_count": null,
   "id": "28432318",
   "metadata": {},
   "outputs": [],
   "source": [
    "ds = load_dataset(file_path)"
   ]
  },
  {
   "cell_type": "code",
   "execution_count": null,
   "id": "50c9c5b3",
   "metadata": {},
   "outputs": [],
   "source": [
    "print(ds)"
   ]
  },
  {
   "cell_type": "code",
   "execution_count": null,
   "id": "979a9844",
   "metadata": {},
   "outputs": [],
   "source": []
  },
  {
   "cell_type": "code",
   "execution_count": null,
   "id": "25f70cda",
   "metadata": {},
   "outputs": [],
   "source": []
  }
 ],
 "metadata": {
  "kernelspec": {
   "display_name": "env",
   "language": "python",
   "name": "env"
  },
  "language_info": {
   "codemirror_mode": {
    "name": "ipython",
    "version": 3
   },
   "file_extension": ".py",
   "mimetype": "text/x-python",
   "name": "python",
   "nbconvert_exporter": "python",
   "pygments_lexer": "ipython3",
   "version": "3.11.1"
  }
 },
 "nbformat": 4,
 "nbformat_minor": 5
}
