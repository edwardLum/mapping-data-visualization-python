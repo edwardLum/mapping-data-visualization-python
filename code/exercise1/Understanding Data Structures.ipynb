{
 "cells": [
  {
   "cell_type": "code",
   "execution_count": 5,
   "id": "b77213a3",
   "metadata": {},
   "outputs": [],
   "source": [
    "import xarray as xr\n",
    "import numpy as np\n",
    "import pandas as pd"
   ]
  },
  {
   "cell_type": "markdown",
   "id": "3f7d6317",
   "metadata": {},
   "source": [
    "**The DataArray constructor takes:**\n",
    "\n",
    "`"
   ]
  },
  {
   "cell_type": "code",
   "execution_count": 6,
   "id": "dfdc117b",
   "metadata": {},
   "outputs": [],
   "source": [
    "data = np.random.rand(4, 3)\n",
    "\n",
    "locs = [\"IA\", \"IL\", \"IN\"]\n",
    "\n",
    "times = pd.date_range(\"2000-01-01\", periods=4)"
   ]
  },
  {
   "cell_type": "code",
   "execution_count": 8,
   "id": "af368ed5",
   "metadata": {},
   "outputs": [
    {
     "name": "stdout",
     "output_type": "stream",
     "text": [
      "<xarray.DataArray (time: 4, space: 3)>\n",
      "array([[0.64230514, 0.19628534, 0.66744634],\n",
      "       [0.6994205 , 0.42681539, 0.75576634],\n",
      "       [0.32984206, 0.22904273, 0.08337776],\n",
      "       [0.99637809, 0.58905771, 0.74861358]])\n",
      "Coordinates:\n",
      "  * time     (time) datetime64[ns] 2000-01-01 2000-01-02 2000-01-03 2000-01-04\n",
      "  * space    (space) <U2 'IA' 'IL' 'IN'\n"
     ]
    }
   ],
   "source": [
    "foo = xr.DataArray(data, coords=[times, locs], dims=[\"time\", \"space\"])\n",
    "\n",
    "print(foo)"
   ]
  },
  {
   "cell_type": "code",
   "execution_count": 10,
   "id": "657f2aa4",
   "metadata": {},
   "outputs": [
    {
     "name": "stdout",
     "output_type": "stream",
     "text": [
      "<xarray.DataArray (dim_0: 4, dim_1: 3)>\n",
      "array([[0.64230514, 0.19628534, 0.66744634],\n",
      "       [0.6994205 , 0.42681539, 0.75576634],\n",
      "       [0.32984206, 0.22904273, 0.08337776],\n",
      "       [0.99637809, 0.58905771, 0.74861358]])\n",
      "Dimensions without coordinates: dim_0, dim_1\n"
     ]
    }
   ],
   "source": [
    "bar = xr.DataArray(data)\n",
    "\n",
    "print(bar)"
   ]
  },
  {
   "cell_type": "code",
   "execution_count": null,
   "id": "51f7b482",
   "metadata": {},
   "outputs": [],
   "source": []
  }
 ],
 "metadata": {
  "kernelspec": {
   "display_name": "env",
   "language": "python",
   "name": "env"
  },
  "language_info": {
   "codemirror_mode": {
    "name": "ipython",
    "version": 3
   },
   "file_extension": ".py",
   "mimetype": "text/x-python",
   "name": "python",
   "nbconvert_exporter": "python",
   "pygments_lexer": "ipython3",
   "version": "3.11.1"
  }
 },
 "nbformat": 4,
 "nbformat_minor": 5
}
