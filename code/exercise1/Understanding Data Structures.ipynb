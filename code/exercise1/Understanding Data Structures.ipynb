{
 "cells": [
  {
   "cell_type": "code",
   "execution_count": 5,
   "id": "fef1daae",
   "metadata": {},
   "outputs": [],
   "source": [
    "import xarray as xr\n",
    "import numpy as np\n",
    "import pandas as pd"
   ]
  },
  {
   "cell_type": "markdown",
   "id": "3a45c675",
   "metadata": {},
   "source": [
    "**The DataArray constructor takes:**\n",
    "\n",
    "* data: a multi-dimensional array of values (e.g., a numpy ndarray, a numpy-like array, Series, DataFrame or pandas.Panel)\n",
    "* coords: a list or dictionary of coordinates. If a list, it should be a list of tuples where the first element is the dimension name and the second element is the corresponding coordinate array_like object.\n",
    "* dims: a list of dimension names. If omitted and coords is a list of tuples, dimension names are taken from coords.\n",
    "* attrs: a dictionary of attributes to add to the instance\n",
    "* name: a string that names the instance"
   ]
  },
  {
   "cell_type": "code",
   "execution_count": 6,
   "id": "8c0feec7",
   "metadata": {},
   "outputs": [],
   "source": [
    "data = np.random.rand(4, 3)\n",
    "\n",
    "locs = [\"IA\", \"IL\", \"IN\"]\n",
    "\n",
    "times = pd.date_range(\"2000-01-01\", periods=4)"
   ]
  },
  {
   "cell_type": "code",
   "execution_count": 8,
   "id": "7bc0357c",
   "metadata": {},
   "outputs": [
    {
     "name": "stdout",
     "output_type": "stream",
     "text": [
      "<xarray.DataArray (time: 4, space: 3)>\n",
      "array([[0.64230514, 0.19628534, 0.66744634],\n",
      "       [0.6994205 , 0.42681539, 0.75576634],\n",
      "       [0.32984206, 0.22904273, 0.08337776],\n",
      "       [0.99637809, 0.58905771, 0.74861358]])\n",
      "Coordinates:\n",
      "  * time     (time) datetime64[ns] 2000-01-01 2000-01-02 2000-01-03 2000-01-04\n",
      "  * space    (space) <U2 'IA' 'IL' 'IN'\n"
     ]
    }
   ],
   "source": [
    "foo = xr.DataArray(data, coords=[times, locs], dims=[\"time\", \"space\"])\n",
    "\n",
    "print(foo)"
   ]
  },
  {
   "cell_type": "code",
   "execution_count": 10,
   "id": "1a2c8d17",
   "metadata": {},
   "outputs": [
    {
     "name": "stdout",
     "output_type": "stream",
     "text": [
      "<xarray.DataArray (dim_0: 4, dim_1: 3)>\n",
      "array([[0.64230514, 0.19628534, 0.66744634],\n",
      "       [0.6994205 , 0.42681539, 0.75576634],\n",
      "       [0.32984206, 0.22904273, 0.08337776],\n",
      "       [0.99637809, 0.58905771, 0.74861358]])\n",
      "Dimensions without coordinates: dim_0, dim_1\n"
     ]
    }
   ],
   "source": [
    "bar = xr.DataArray(data)\n",
    "\n",
    "print(bar)"
   ]
  },
  {
   "cell_type": "code",
   "execution_count": 15,
   "id": "1a892d8f",
   "metadata": {},
   "outputs": [
    {
     "name": "stdout",
     "output_type": "stream",
     "text": [
      "<xarray.DataArray (time: 4, space: 3)>\n",
      "array([[0.64230514, 0.19628534, 0.66744634],\n",
      "       [0.6994205 , 0.42681539, 0.75576634],\n",
      "       [0.32984206, 0.22904273, 0.08337776],\n",
      "       [0.99637809, 0.58905771, 0.74861358]])\n",
      "Coordinates:\n",
      "  * time     (time) datetime64[ns] 2000-01-01 2000-01-02 2000-01-03 2000-01-04\n",
      "  * space    (space) <U2 'IA' 'IL' 'IN'\n"
     ]
    }
   ],
   "source": [
    "with_coords = xr.DataArray(data, coords=[(\"time\", times), (\"space\", locs)])\n",
    "\n",
    "print(with_coords)"
   ]
  },
  {
   "cell_type": "code",
   "execution_count": 16,
   "id": "2889cfb5",
   "metadata": {},
   "outputs": [
    {
     "name": "stdout",
     "output_type": "stream",
     "text": [
      "<xarray.DataArray (time: 4, space: 3)>\n",
      "array([[0.64230514, 0.19628534, 0.66744634],\n",
      "       [0.6994205 , 0.42681539, 0.75576634],\n",
      "       [0.32984206, 0.22904273, 0.08337776],\n",
      "       [0.99637809, 0.58905771, 0.74861358]])\n",
      "Coordinates:\n",
      "  * time     (time) datetime64[ns] 2000-01-01 2000-01-02 2000-01-03 2000-01-04\n",
      "  * space    (space) <U2 'IA' 'IL' 'IN'\n",
      "    const    int64 42\n",
      "    ranking  (space) int64 1 2 3\n"
     ]
    }
   ],
   "source": [
    "coords_with_dict = xr.DataArray(\n",
    "    data,\n",
    "    coords={\n",
    "        \"time\": times,\n",
    "        \"space\": locs,\n",
    "        \"const\": 42,\n",
    "        \"ranking\": (\"space\", [1, 2, 3]),\n",
    "    },\n",
    "    dims=[\"time\", \"space\"],\n",
    ")\n",
    "\n",
    "print(coords_with_dict)\n"
   ]
  },
  {
   "cell_type": "code",
   "execution_count": null,
   "id": "4638dff9",
   "metadata": {},
   "outputs": [],
   "source": []
  }
 ],
 "metadata": {
  "kernelspec": {
   "display_name": "env",
   "language": "python",
   "name": "env"
  },
  "language_info": {
   "codemirror_mode": {
    "name": "ipython",
    "version": 3
   },
   "file_extension": ".py",
   "mimetype": "text/x-python",
   "name": "python",
   "nbconvert_exporter": "python",
   "pygments_lexer": "ipython3",
   "version": "3.11.1"
  }
 },
 "nbformat": 4,
 "nbformat_minor": 5
}
