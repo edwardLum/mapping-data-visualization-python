{
  "cells": [
    {
      "cell_type": "markdown",
      "metadata": {
        "id": "view-in-github",
        "colab_type": "text"
      },
      "source": [
        "<a href=\"https://colab.research.google.com/github/edwardLum/star-struck/blob/main/Chapter_1_Matplotlib_Basics.ipynb\" target=\"_parent\"><img src=\"https://colab.research.google.com/assets/colab-badge.svg\" alt=\"Open In Colab\"/></a>"
      ]
    },
    {
      "cell_type": "markdown",
      "metadata": {
        "id": "WkS5his_hNSp"
      },
      "source": [
        "This notebook introduces the [Matplotlib](https://matplotlib.org/) library. This is one of the core Python packages for data visualization and is used by many spatial and non-spatial packages to create charts and maps."
      ]
    },
    {
      "cell_type": "markdown",
      "source": [
        "## Setup"
      ],
      "metadata": {
        "id": "Dy48TFMqihGQ"
      }
    },
    {
      "cell_type": "markdown",
      "metadata": {
        "id": "4eGfFz-ShNSr"
      },
      "source": [
        "Most of the Matplotlib functionality is available in the `pyplot` submodule, and by convention is imported as `plt`"
      ]
    },
    {
      "cell_type": "code",
      "execution_count": null,
      "metadata": {
        "id": "S1eJKyL3hNSr"
      },
      "outputs": [],
      "source": [
        "import os\n",
        "import matplotlib.pyplot as plt"
      ]
    },
    {
      "cell_type": "code",
      "source": [
        "data_folder = 'data'\n",
        "output_folder = 'output'\n",
        "\n",
        "if not os.path.exists(data_folder):\n",
        "    os.mkdir(data_folder)\n",
        "if not os.path.exists(output_folder):\n",
        "    os.mkdir(output_folder)"
      ],
      "metadata": {
        "id": "bKBqxv5XThbW"
      },
      "execution_count": null,
      "outputs": []
    },
    {
      "cell_type": "markdown",
      "source": [
        "## Concepts"
      ],
      "metadata": {
        "id": "X4LJ-CShixwv"
      }
    },
    {
      "cell_type": "markdown",
      "metadata": {
        "id": "f8pHmNPNhNSs"
      },
      "source": [
        "It is important to understand the 2 matplotlib objects\n",
        "\n",
        "* Figure: This is the main container of the plot. A figure can contain multiple plots inside it\n",
        "* Axes:  Axes refers to an individual plot or graph. A figure contains 1 or more axes.\n",
        "\n",
        "<img src='https://courses.spatialthoughts.com/images/python_dataviz/matplotlib_terminology.png' width=800/>"
      ]
    },
    {
      "cell_type": "markdown",
      "metadata": {
        "id": "JKBmwtVohNSs"
      },
      "source": [
        "We create a figure and a single subplot. Specifying 1 row and 1 column for the `subplots()` function create a figure and an axes within it. Even if we have a single plot in the figure, it is useful to use this logic of intialization so it is consistent across different scripts.\n"
      ]
    },
    {
      "cell_type": "code",
      "execution_count": null,
      "metadata": {
        "id": "7r5ziQi7hNSs",
        "colab": {
          "base_uri": "https://localhost:8080/",
          "height": 451
        },
        "outputId": "6897de70-d44c-4ad1-d9f1-b6f17232fa3a"
      },
      "outputs": [
        {
          "output_type": "display_data",
          "data": {
            "text/plain": [
              "<Figure size 500x500 with 1 Axes>"
            ],
            "image/png": "[encoded data removed]"
          },
          "metadata": {}
        }
      ],
      "source": [
        "fig, ax = plt.subplots(1, 1)\n",
        "fig.set_size_inches(5,5)\n",
        "plt.show()"
      ]
    },
    {
      "cell_type": "markdown",
      "metadata": {
        "id": "W6_PHPnlhNSs"
      },
      "source": [
        "First, let's learn how to plot a single point using matplotlib. Let's say we want to display a point at the coordinate (0.5, 0.5).\n"
      ]
    },
    {
      "cell_type": "code",
      "execution_count": null,
      "metadata": {
        "id": "V2as1dlvhNSt"
      },
      "outputs": [],
      "source": [
        "point = (0.5, 0.5)"
      ]
    },
    {
      "cell_type": "markdown",
      "metadata": {
        "id": "tlK_UaE1hNSt"
      },
      "source": [
        "We display the point using the `plot()` function. The `plot()` function expects at least 2 arguments, first one being one or more x coordinates and the second one being one or more y coordinates. Remember that once a plot is displayed using `plt.show()`, it displays the plot and empties the figure. So you'll have to create it again.\n",
        "\n",
        "Reference: [matplotlib.pyplot.plot](https://matplotlib.org/stable/api/_as_gen/matplotlib.pyplot.plot.html)"
      ]
    },
    {
      "cell_type": "code",
      "execution_count": null,
      "metadata": {
        "id": "InJghBwDhNSt",
        "colab": {
          "base_uri": "https://localhost:8080/",
          "height": 445
        },
        "outputId": "7e2502da-ede3-4efe-fb93-df79b1cbd420"
      },
      "outputs": [
        {
          "output_type": "display_data",
          "data": {
            "text/plain": [
              "<Figure size 500x500 with 1 Axes>"
            ],
            "image/png": "[encoded data removed]"
          },
          "metadata": {}
        }
      ],
      "source": [
        "fig, ax = plt.subplots(1, 1)\n",
        "fig.set_size_inches(5,5)\n",
        "ax.plot(point[0], point[1], color='green', marker='o')\n",
        "plt.show()"
      ]
    },
    {
      "cell_type": "markdown",
      "metadata": {
        "id": "PQYB3jtvhNSu"
      },
      "source": [
        "Note: Understanding `*args` and `**kwargs`\n",
        "\n",
        "Python functions accept 2 types of arguments.\n",
        "- *Non Keyword Arguments*: These are referred as `*args`. When the number of arguments that a function takes is not fixed, it is specified as `*args`. In the function `plot()` above, you can specify 1 argument, 2 arguments or even 6 arguments and the function will respond accordingly.\n",
        "- *Keyword Arguments*: These are referred as `**kwargs`. These are specified as `key=value` pairs and usually used to specify optional parameters. These should always be specified after the non-keyword arguments. The `color='green'` in the `plot()` function is a keyboard argument."
      ]
    },
    {
      "cell_type": "markdown",
      "metadata": {
        "id": "zOPAdfb-hNSu"
      },
      "source": [
        "One problematic area for plotting geospatial data using matplotlib is that geospatial data is typically represented as a list of x and y coordinates. Let's say we want to plot the following 3 points defined as a list of (x,y) tuples."
      ]
    },
    {
      "cell_type": "code",
      "execution_count": null,
      "metadata": {
        "id": "NCpxF31FhNSu"
      },
      "outputs": [],
      "source": [
        "points = [(0.1, 0.5), (0.5, 0.5), (0.9, 0.5)]"
      ]
    },
    {
      "cell_type": "markdown",
      "metadata": {
        "id": "C7DnMGHZhNSu"
      },
      "source": [
        "But to plot it, `matplotlib` require 2 separate lists or x and y coordinates. Here we can use the `zip()` function to create list of x and y coordinates."
      ]
    },
    {
      "cell_type": "code",
      "execution_count": null,
      "metadata": {
        "id": "ibmbPft7hNSv",
        "colab": {
          "base_uri": "https://localhost:8080/"
        },
        "outputId": "113b1e60-611f-459f-d742-4531a47d3500"
      },
      "outputs": [
        {
          "output_type": "stream",
          "name": "stdout",
          "text": [
            "(0.1, 0.5, 0.9)\n",
            "(0.5, 0.5, 0.5)\n"
          ]
        }
      ],
      "source": [
        "x, y = zip(*points)\n",
        "print(x)\n",
        "print(y)"
      ]
    },
    {
      "cell_type": "markdown",
      "metadata": {
        "id": "vQnb-dU8hNSv"
      },
      "source": [
        "Now these can be plotted using the `plot()` method. We specify keyword arguments `color` and `marker`."
      ]
    },
    {
      "cell_type": "code",
      "execution_count": null,
      "metadata": {
        "id": "nukTlDqkhNSv",
        "colab": {
          "base_uri": "https://localhost:8080/",
          "height": 445
        },
        "outputId": "99937ce9-fb69-4ab6-97a5-3eb79d83393a"
      },
      "outputs": [
        {
          "output_type": "display_data",
          "data": {
            "text/plain": [
              "<Figure size 500x500 with 1 Axes>"
            ],
            "image/png": "[encoded data removed]"
          },
          "metadata": {}
        }
      ],
      "source": [
        "fig, ax = plt.subplots(1, 1)\n",
        "fig.set_size_inches(5,5)\n",
        "ax.plot(x, y, color='green', marker='o')\n",
        "plt.show()"
      ]
    },
    {
      "cell_type": "code",
      "execution_count": null,
      "metadata": {
        "id": "v0ObB3vchNSv",
        "colab": {
          "base_uri": "https://localhost:8080/",
          "height": 445
        },
        "outputId": "dbae931f-9f4b-4d80-c5ed-4fac39f67765"
      },
      "outputs": [
        {
          "output_type": "display_data",
          "data": {
            "text/plain": [
              "<Figure size 500x500 with 1 Axes>"
            ],
            "image/png": "[encoded data removed]"
          },
          "metadata": {}
        }
      ],
      "source": [
        "fig, ax = plt.subplots(1, 1)\n",
        "fig.set_size_inches(5,5)\n",
        "ax.plot(x, y, color='green', marker='o', linestyle='None')\n",
        "plt.show()"
      ]
    },
    {
      "cell_type": "markdown",
      "metadata": {
        "id": "XpmKRIB0hNSv"
      },
      "source": [
        "You can save the figure using the `savefig()` method. Remember to save the figure *before* calling `plt.show()` otherwise the figure would be empty."
      ]
    },
    {
      "cell_type": "code",
      "execution_count": null,
      "metadata": {
        "id": "OBXFO8WnhNSv",
        "colab": {
          "base_uri": "https://localhost:8080/",
          "height": 445
        },
        "outputId": "ca019b7f-f611-4037-eb5e-f3ec31cca2bc"
      },
      "outputs": [
        {
          "output_type": "display_data",
          "data": {
            "text/plain": [
              "<Figure size 500x500 with 1 Axes>"
            ],
            "image/png": "[encoded data removed]"
          },
          "metadata": {}
        }
      ],
      "source": [
        "fig, ax = plt.subplots(1, 1)\n",
        "fig.set_size_inches(5,5)\n",
        "ax.plot(x, y, color='green', marker='o', linestyle='None')\n",
        "\n",
        "output_folder = 'output'\n",
        "output_path = os.path.join(output_folder, 'simple.png')\n",
        "plt.savefig(output_path)\n",
        "\n",
        "plt.show()"
      ]
    },
    {
      "cell_type": "markdown",
      "metadata": {
        "id": "41qwfR6QhNSv"
      },
      "source": [
        "Matplotlib provides many specialized functions for different types of plots. `scatter()` for Scatter Charts, `bar()` for Bar Charts and so on. You can use them directly, but in practice they are used via higher-level libraries like `pandas`. In the next section, we will see how to create such charts."
      ]
    },
    {
      "cell_type": "markdown",
      "metadata": {
        "id": "0yLYffhehNSw"
      },
      "source": [
        "## Exercise\n",
        "\n",
        "Create a plot that displays the 2 given points with their x,y coordinates with different sumbology.\n",
        "\n",
        "* `point1`: Plot it with green color and a triangle marker.\n",
        "* `point2`: Plot it with red color and a circle marker.\n",
        "\n",
        "Reference: [matplotlib.pyplot.plot](https://matplotlib.org/stable/api/_as_gen/matplotlib.pyplot.plot.html)\n",
        "\n",
        "> Hint: You can call `plot()` multiple times to add new data to the same Axes."
      ]
    },
    {
      "cell_type": "code",
      "execution_count": null,
      "metadata": {
        "id": "RNOCruOohNSw",
        "colab": {
          "base_uri": "https://localhost:8080/",
          "height": 445
        },
        "outputId": "44028306-5f1c-4c5c-a3db-16c379b7aaa2"
      },
      "outputs": [
        {
          "output_type": "display_data",
          "data": {
            "text/plain": [
              "<Figure size 500x500 with 1 Axes>"
            ],
            "image/png": "[encoded data removed]"
          },
          "metadata": {}
        }
      ],
      "source": [
        "import matplotlib.pyplot as plt\n",
        "\n",
        "point1 = (4, 1)\n",
        "point2 = (3, 4)\n",
        "\n",
        "(x, y) = zip(point1, point2)\n",
        "\n",
        "fig, ax = plt.subplots(1, 1)\n",
        "fig.set_size_inches(5, 5)\n",
        "\n",
        "ax.plot(*point1, color=\"green\", marker='^')\n",
        "ax.plot(*point2, color=\"red\", marker=\"o\")\n",
        "plt.show()"
      ]
    }
  ],
  "metadata": {
    "kernelspec": {
      "display_name": "Python 3 (ipykernel)",
      "language": "python",
      "name": "python3"
    },
    "language_info": {
      "codemirror_mode": {
        "name": "ipython",
        "version": 3
      },
      "file_extension": ".py",
      "mimetype": "text/x-python",
      "name": "python",
      "nbconvert_exporter": "python",
      "pygments_lexer": "ipython3",
      "version": "3.10.5"
    },
    "colab": {
      "provenance": [],
      "include_colab_link": true
    }
  },
  "nbformat": 4,
  "nbformat_minor": 0
}